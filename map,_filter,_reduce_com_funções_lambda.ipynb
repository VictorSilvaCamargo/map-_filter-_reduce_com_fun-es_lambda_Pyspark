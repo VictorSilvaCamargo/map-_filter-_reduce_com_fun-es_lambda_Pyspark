{
  "nbformat": 4,
  "nbformat_minor": 0,
  "metadata": {
    "colab": {
      "provenance": [],
      "include_colab_link": true
    },
    "kernelspec": {
      "name": "python3",
      "display_name": "Python 3"
    },
    "language_info": {
      "name": "python"
    }
  },
  "cells": [
    {
      "cell_type": "markdown",
      "metadata": {
        "id": "view-in-github",
        "colab_type": "text"
      },
      "source": [
        "<a href=\"https://colab.research.google.com/github/VictorSilvaCamargo/map-_filter-_reduce_com_fun-es_lambda_Pyspark/blob/main/map%2C_filter%2C_reduce_com_fun%C3%A7%C3%B5es_lambda.ipynb\" target=\"_parent\"><img src=\"https://colab.research.google.com/assets/colab-badge.svg\" alt=\"Open In Colab\"/></a>"
      ]
    },
    {
      "cell_type": "code",
      "execution_count": null,
      "metadata": {
        "id": "Urnr6UY7oChZ"
      },
      "outputs": [],
      "source": [
        "class Estudante:\n",
        "    def __init__(self, nome, exame, tde, contribuicao, ra=0):\n",
        "        self.nome = nome\n",
        "        self.exame = exame\n",
        "        self.tde = tde\n",
        "        self.contribuicao = contribuicao\n",
        "        self.ra = ra\n",
        "\n",
        "    def __str__(self):\n",
        "        return f\"Nome: {self.nome}, Exame: {self.exame}, TDE: {self.tde}, Contribuição: {self.contribuicao}, RA: {self.ra}\"\n",
        "\n",
        "estudantes = [\n",
        "    Estudante(\"Antonio\", 6, 10, 9),\n",
        "    Estudante(\"Maria\", 8, 7, 3),\n",
        "    Estudante(\"Carlos\", 5, 4, 2),\n",
        "    Estudante(\"Isabella\", 9, 8, 7),\n",
        "    Estudante(\"Luis\", 7, 6, 4)\n",
        "]"
      ]
    },
    {
      "cell_type": "code",
      "source": [
        "nova_lista = list(map(lambda x: Estudante(x.nome, x.exame, 0 if x.contribuicao < 5 else x.tde, x.contribuicao, x.ra), estudantes))\n",
        "for i in nova_lista:\n",
        "    print(i)"
      ],
      "metadata": {
        "colab": {
          "base_uri": "https://localhost:8080/"
        },
        "id": "EduJzgEU0xUT",
        "outputId": "f4037013-f2ad-446b-fc0d-717b212e49a9"
      },
      "execution_count": null,
      "outputs": [
        {
          "output_type": "stream",
          "name": "stdout",
          "text": [
            "Nome: Antonio, Exame: 6, TDE: 10, Contribuição: 9, RA: 0\n",
            "Nome: Maria, Exame: 8, TDE: 0, Contribuição: 3, RA: 0\n",
            "Nome: Carlos, Exame: 5, TDE: 0, Contribuição: 2, RA: 0\n",
            "Nome: Isabella, Exame: 9, TDE: 8, Contribuição: 7, RA: 0\n",
            "Nome: Luis, Exame: 7, TDE: 0, Contribuição: 4, RA: 0\n"
          ]
        }
      ]
    },
    {
      "cell_type": "code",
      "source": [
        "nota_final = list(map(lambda x: Estudante(x.nome, x.exame, x.tde, x.contribuicao, 0.7 * x.exame + 0.3 * x.tde), nova_lista))\n",
        "\n",
        "for i in nota_final:\n",
        "    print(i)"
      ],
      "metadata": {
        "colab": {
          "base_uri": "https://localhost:8080/"
        },
        "id": "aGHK8-0T2jid",
        "outputId": "74c7633e-a9c8-424a-9dc0-0d649342d0cb"
      },
      "execution_count": null,
      "outputs": [
        {
          "output_type": "stream",
          "name": "stdout",
          "text": [
            "Nome: Antonio, Exame: 6, TDE: 10, Contribuição: 9, RA: 7.199999999999999\n",
            "Nome: Maria, Exame: 8, TDE: 0, Contribuição: 3, RA: 5.6\n",
            "Nome: Carlos, Exame: 5, TDE: 0, Contribuição: 2, RA: 3.5\n",
            "Nome: Isabella, Exame: 9, TDE: 8, Contribuição: 7, RA: 8.7\n",
            "Nome: Luis, Exame: 7, TDE: 0, Contribuição: 4, RA: 4.8999999999999995\n"
          ]
        }
      ]
    },
    {
      "cell_type": "code",
      "source": [
        "aprovado = list(filter(lambda x: x.ra > 7, nota_final))\n",
        "for i in aprovado:\n",
        "  print(i.nome)"
      ],
      "metadata": {
        "colab": {
          "base_uri": "https://localhost:8080/"
        },
        "id": "GZMgVeR64HQy",
        "outputId": "3d697030-e98e-425f-da02-618871f308d9"
      },
      "execution_count": null,
      "outputs": [
        {
          "output_type": "stream",
          "name": "stdout",
          "text": [
            "Antonio\n",
            "Isabella\n"
          ]
        }
      ]
    },
    {
      "cell_type": "code",
      "source": [
        "from functools import reduce\n",
        "media = reduce(lambda x, y: x+y, map(lambda x: x.ra, nota_final))\n",
        "print(f\"{media:.2f}\")"
      ],
      "metadata": {
        "colab": {
          "base_uri": "https://localhost:8080/"
        },
        "id": "2v4FuUho54Mw",
        "outputId": "74d2f60f-ad75-45f2-a59c-e9d76edd5a78"
      },
      "execution_count": null,
      "outputs": [
        {
          "output_type": "stream",
          "name": "stdout",
          "text": [
            "29.90\n"
          ]
        }
      ]
    }
  ]
}